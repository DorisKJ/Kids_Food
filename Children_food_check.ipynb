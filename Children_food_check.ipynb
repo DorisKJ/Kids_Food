{
 "cells": [
  {
   "cell_type": "code",
   "execution_count": 1,
   "id": "f7267474",
   "metadata": {},
   "outputs": [],
   "source": [
    "import numpy as np\n",
    "import pandas as pd\n",
    "import matplotlib.pyplot as plt"
   ]
  },
  {
   "cell_type": "markdown",
   "id": "4145222b",
   "metadata": {},
   "source": [
    "#### The data\n",
    "Our data contains some Latin characters. Column names are given in both French and English. An encoding is needed in this case, so we use ISO-8859-1.\n",
    "\n",
    "Columns in French are dropped. Only needed columns are kept. Some renaming is also needed."
   ]
  },
  {
   "cell_type": "code",
   "execution_count": 3,
   "id": "b435554f",
   "metadata": {},
   "outputs": [
    {
     "data": {
      "text/html": [
       "<div>\n",
       "<style scoped>\n",
       "    .dataframe tbody tr th:only-of-type {\n",
       "        vertical-align: middle;\n",
       "    }\n",
       "\n",
       "    .dataframe tbody tr th {\n",
       "        vertical-align: top;\n",
       "    }\n",
       "\n",
       "    .dataframe thead th {\n",
       "        text-align: right;\n",
       "    }\n",
       "</style>\n",
       "<table border=\"1\" class=\"dataframe\">\n",
       "  <thead>\n",
       "    <tr style=\"text-align: right;\">\n",
       "      <th></th>\n",
       "      <th>Sample No.  No. déchantillon</th>\n",
       "      <th>Region - Région</th>\n",
       "      <th>Commodity</th>\n",
       "      <th>denrée</th>\n",
       "      <th>Function</th>\n",
       "      <th>Fonction</th>\n",
       "      <th>Origin</th>\n",
       "      <th>Origine</th>\n",
       "      <th>Product</th>\n",
       "      <th>Produit</th>\n",
       "      <th>Date Sampled  Date déchantillonage</th>\n",
       "      <th>Component</th>\n",
       "      <th>Composant</th>\n",
       "      <th>AMOUNT</th>\n",
       "      <th>Report Unit - Unité de rapport</th>\n",
       "    </tr>\n",
       "  </thead>\n",
       "  <tbody>\n",
       "    <tr>\n",
       "      <th>0</th>\n",
       "      <td>CFP2019-0001</td>\n",
       "      <td>ONTARIO</td>\n",
       "      <td>IMFD</td>\n",
       "      <td>DAIM</td>\n",
       "      <td>Domestic</td>\n",
       "      <td>domestique</td>\n",
       "      <td>CANADA</td>\n",
       "      <td>CANADA</td>\n",
       "      <td>Yogurt</td>\n",
       "      <td>Yogourt</td>\n",
       "      <td>15-Aug-19</td>\n",
       "      <td>Diquat</td>\n",
       "      <td>diquat</td>\n",
       "      <td>0.0</td>\n",
       "      <td>µg/g</td>\n",
       "    </tr>\n",
       "    <tr>\n",
       "      <th>1</th>\n",
       "      <td>CFP2019-0001</td>\n",
       "      <td>ONTARIO</td>\n",
       "      <td>IMFD</td>\n",
       "      <td>DAIM</td>\n",
       "      <td>Domestic</td>\n",
       "      <td>domestique</td>\n",
       "      <td>CANADA</td>\n",
       "      <td>CANADA</td>\n",
       "      <td>Yogurt</td>\n",
       "      <td>Yogourt</td>\n",
       "      <td>15-Aug-19</td>\n",
       "      <td>Paraquat</td>\n",
       "      <td>paraquat</td>\n",
       "      <td>0.0</td>\n",
       "      <td>µg/g</td>\n",
       "    </tr>\n",
       "    <tr>\n",
       "      <th>2</th>\n",
       "      <td>CFP2019-0001</td>\n",
       "      <td>ONTARIO</td>\n",
       "      <td>IMFD</td>\n",
       "      <td>DAIM</td>\n",
       "      <td>Domestic</td>\n",
       "      <td>domestique</td>\n",
       "      <td>CANADA</td>\n",
       "      <td>CANADA</td>\n",
       "      <td>Yogurt</td>\n",
       "      <td>Yogourt</td>\n",
       "      <td>15-Aug-19</td>\n",
       "      <td>AminomethylPhosphonic Acid</td>\n",
       "      <td>Acide (aminométhyl) phosphonique</td>\n",
       "      <td>0.0</td>\n",
       "      <td>µg/g</td>\n",
       "    </tr>\n",
       "    <tr>\n",
       "      <th>3</th>\n",
       "      <td>CFP2019-0001</td>\n",
       "      <td>ONTARIO</td>\n",
       "      <td>IMFD</td>\n",
       "      <td>DAIM</td>\n",
       "      <td>Domestic</td>\n",
       "      <td>domestique</td>\n",
       "      <td>CANADA</td>\n",
       "      <td>CANADA</td>\n",
       "      <td>Yogurt</td>\n",
       "      <td>Yogourt</td>\n",
       "      <td>15-Aug-19</td>\n",
       "      <td>Glyphosate</td>\n",
       "      <td>glyphosate</td>\n",
       "      <td>0.0</td>\n",
       "      <td>µg/g</td>\n",
       "    </tr>\n",
       "    <tr>\n",
       "      <th>4</th>\n",
       "      <td>CFP2019-0001</td>\n",
       "      <td>ONTARIO</td>\n",
       "      <td>IMFD</td>\n",
       "      <td>DAIM</td>\n",
       "      <td>Domestic</td>\n",
       "      <td>domestique</td>\n",
       "      <td>CANADA</td>\n",
       "      <td>CANADA</td>\n",
       "      <td>Yogurt</td>\n",
       "      <td>Yogourt</td>\n",
       "      <td>15-Aug-19</td>\n",
       "      <td>Aluminum</td>\n",
       "      <td>Aluminium</td>\n",
       "      <td>0.0</td>\n",
       "      <td>µg/g</td>\n",
       "    </tr>\n",
       "  </tbody>\n",
       "</table>\n",
       "</div>"
      ],
      "text/plain": [
       "  Sample No.  No. déchantillon Region - Région Commodity denrée  Function  \\\n",
       "0                   CFP2019-0001         ONTARIO      IMFD   DAIM  Domestic   \n",
       "1                   CFP2019-0001         ONTARIO      IMFD   DAIM  Domestic   \n",
       "2                   CFP2019-0001         ONTARIO      IMFD   DAIM  Domestic   \n",
       "3                   CFP2019-0001         ONTARIO      IMFD   DAIM  Domestic   \n",
       "4                   CFP2019-0001         ONTARIO      IMFD   DAIM  Domestic   \n",
       "\n",
       "     Fonction  Origin Origine Product  Produit  \\\n",
       "0  domestique  CANADA  CANADA  Yogurt  Yogourt   \n",
       "1  domestique  CANADA  CANADA  Yogurt  Yogourt   \n",
       "2  domestique  CANADA  CANADA  Yogurt  Yogourt   \n",
       "3  domestique  CANADA  CANADA  Yogurt  Yogourt   \n",
       "4  domestique  CANADA  CANADA  Yogurt  Yogourt   \n",
       "\n",
       "  Date Sampled  Date déchantillonage                   Component  \\\n",
       "0                            15-Aug-19                      Diquat   \n",
       "1                            15-Aug-19                    Paraquat   \n",
       "2                            15-Aug-19  AminomethylPhosphonic Acid   \n",
       "3                            15-Aug-19                  Glyphosate   \n",
       "4                            15-Aug-19                    Aluminum   \n",
       "\n",
       "                          Composant  AMOUNT Report Unit - Unité de rapport  \n",
       "0                            diquat     0.0                           µg/g  \n",
       "1                          paraquat     0.0                           µg/g  \n",
       "2  Acide (aminométhyl) phosphonique     0.0                           µg/g  \n",
       "3                        glyphosate     0.0                           µg/g  \n",
       "4                         Aluminium     0.0                           µg/g  "
      ]
     },
     "execution_count": 3,
     "metadata": {},
     "output_type": "execute_result"
    }
   ],
   "source": [
    "data = pd.read_csv(\n",
    "    'data/cfia-acia-1211-childrens-food-project.csv', encoding = \"ISO-8859-1\")\n",
    "data.head()\n"
   ]
  },
  {
   "cell_type": "code",
   "execution_count": 5,
   "id": "1f46db7a",
   "metadata": {},
   "outputs": [
    {
     "data": {
      "text/html": [
       "<div>\n",
       "<style scoped>\n",
       "    .dataframe tbody tr th:only-of-type {\n",
       "        vertical-align: middle;\n",
       "    }\n",
       "\n",
       "    .dataframe tbody tr th {\n",
       "        vertical-align: top;\n",
       "    }\n",
       "\n",
       "    .dataframe thead th {\n",
       "        text-align: right;\n",
       "    }\n",
       "</style>\n",
       "<table border=\"1\" class=\"dataframe\">\n",
       "  <thead>\n",
       "    <tr style=\"text-align: right;\">\n",
       "      <th></th>\n",
       "      <th>Region</th>\n",
       "      <th>Function</th>\n",
       "      <th>Origin</th>\n",
       "      <th>Product</th>\n",
       "      <th>Component</th>\n",
       "      <th>AMOUNT</th>\n",
       "    </tr>\n",
       "  </thead>\n",
       "  <tbody>\n",
       "    <tr>\n",
       "      <th>0</th>\n",
       "      <td>ONTARIO</td>\n",
       "      <td>Domestic</td>\n",
       "      <td>CANADA</td>\n",
       "      <td>Yogurt</td>\n",
       "      <td>Diquat</td>\n",
       "      <td>0.0</td>\n",
       "    </tr>\n",
       "    <tr>\n",
       "      <th>1</th>\n",
       "      <td>ONTARIO</td>\n",
       "      <td>Domestic</td>\n",
       "      <td>CANADA</td>\n",
       "      <td>Yogurt</td>\n",
       "      <td>Paraquat</td>\n",
       "      <td>0.0</td>\n",
       "    </tr>\n",
       "    <tr>\n",
       "      <th>2</th>\n",
       "      <td>ONTARIO</td>\n",
       "      <td>Domestic</td>\n",
       "      <td>CANADA</td>\n",
       "      <td>Yogurt</td>\n",
       "      <td>AminomethylPhosphonic Acid</td>\n",
       "      <td>0.0</td>\n",
       "    </tr>\n",
       "    <tr>\n",
       "      <th>3</th>\n",
       "      <td>ONTARIO</td>\n",
       "      <td>Domestic</td>\n",
       "      <td>CANADA</td>\n",
       "      <td>Yogurt</td>\n",
       "      <td>Glyphosate</td>\n",
       "      <td>0.0</td>\n",
       "    </tr>\n",
       "    <tr>\n",
       "      <th>4</th>\n",
       "      <td>ONTARIO</td>\n",
       "      <td>Domestic</td>\n",
       "      <td>CANADA</td>\n",
       "      <td>Yogurt</td>\n",
       "      <td>Aluminum</td>\n",
       "      <td>0.0</td>\n",
       "    </tr>\n",
       "  </tbody>\n",
       "</table>\n",
       "</div>"
      ],
      "text/plain": [
       "    Region  Function  Origin Product                   Component  AMOUNT\n",
       "0  ONTARIO  Domestic  CANADA  Yogurt                      Diquat     0.0\n",
       "1  ONTARIO  Domestic  CANADA  Yogurt                    Paraquat     0.0\n",
       "2  ONTARIO  Domestic  CANADA  Yogurt  AminomethylPhosphonic Acid     0.0\n",
       "3  ONTARIO  Domestic  CANADA  Yogurt                  Glyphosate     0.0\n",
       "4  ONTARIO  Domestic  CANADA  Yogurt                    Aluminum     0.0"
      ]
     },
     "execution_count": 5,
     "metadata": {},
     "output_type": "execute_result"
    }
   ],
   "source": [
    "# Let's select columns of interest \n",
    "cols = ['Region - Région', 'Function', 'Origin', 'Product', 'Component', 'AMOUNT']\n",
    "children_food = data[cols].rename(columns={data.columns[1]: 'Region'})\n",
    "children_food.head()\n"
   ]
  },
  {
   "cell_type": "code",
   "execution_count": 66,
   "id": "ac35ef12",
   "metadata": {},
   "outputs": [
    {
     "data": {
      "text/plain": [
       "array(['Domestic', 'Unknown', 'Import'], dtype=object)"
      ]
     },
     "execution_count": 66,
     "metadata": {},
     "output_type": "execute_result"
    }
   ],
   "source": [
    "children_food.Function.unique()"
   ]
  },
  {
   "cell_type": "markdown",
   "id": "f2d77960",
   "metadata": {},
   "source": [
    "#### Identification\n",
    "Region: where the product was both Ontario or Quebec \\\n",
    "Function: 'Domestic', 'Unknown', 'Import' \\\n",
    "Origin: Country of origine of the product \\\n",
    "Poduct: Product name \\\n",
    "Component: Chemical components found in products \\\n",
    "AMOUNT: Measured value in $\\mu$g/g "
   ]
  },
  {
   "cell_type": "code",
   "execution_count": 7,
   "id": "afb7f722",
   "metadata": {},
   "outputs": [
    {
     "data": {
      "text/html": [
       "<div>\n",
       "<style scoped>\n",
       "    .dataframe tbody tr th:only-of-type {\n",
       "        vertical-align: middle;\n",
       "    }\n",
       "\n",
       "    .dataframe tbody tr th {\n",
       "        vertical-align: top;\n",
       "    }\n",
       "\n",
       "    .dataframe thead th {\n",
       "        text-align: right;\n",
       "    }\n",
       "</style>\n",
       "<table border=\"1\" class=\"dataframe\">\n",
       "  <thead>\n",
       "    <tr style=\"text-align: right;\">\n",
       "      <th></th>\n",
       "      <th>Region</th>\n",
       "      <th>Function</th>\n",
       "      <th>Origin</th>\n",
       "      <th>Product</th>\n",
       "      <th>Component</th>\n",
       "      <th>AMOUNT</th>\n",
       "      <th>Has_chemicals</th>\n",
       "    </tr>\n",
       "  </thead>\n",
       "  <tbody>\n",
       "    <tr>\n",
       "      <th>0</th>\n",
       "      <td>ONTARIO</td>\n",
       "      <td>Domestic</td>\n",
       "      <td>CANADA</td>\n",
       "      <td>Yogurt</td>\n",
       "      <td>Diquat</td>\n",
       "      <td>0.0</td>\n",
       "      <td>0</td>\n",
       "    </tr>\n",
       "    <tr>\n",
       "      <th>1</th>\n",
       "      <td>ONTARIO</td>\n",
       "      <td>Domestic</td>\n",
       "      <td>CANADA</td>\n",
       "      <td>Yogurt</td>\n",
       "      <td>Paraquat</td>\n",
       "      <td>0.0</td>\n",
       "      <td>0</td>\n",
       "    </tr>\n",
       "    <tr>\n",
       "      <th>2</th>\n",
       "      <td>ONTARIO</td>\n",
       "      <td>Domestic</td>\n",
       "      <td>CANADA</td>\n",
       "      <td>Yogurt</td>\n",
       "      <td>AminomethylPhosphonic Acid</td>\n",
       "      <td>0.0</td>\n",
       "      <td>0</td>\n",
       "    </tr>\n",
       "    <tr>\n",
       "      <th>3</th>\n",
       "      <td>ONTARIO</td>\n",
       "      <td>Domestic</td>\n",
       "      <td>CANADA</td>\n",
       "      <td>Yogurt</td>\n",
       "      <td>Glyphosate</td>\n",
       "      <td>0.0</td>\n",
       "      <td>0</td>\n",
       "    </tr>\n",
       "    <tr>\n",
       "      <th>4</th>\n",
       "      <td>ONTARIO</td>\n",
       "      <td>Domestic</td>\n",
       "      <td>CANADA</td>\n",
       "      <td>Yogurt</td>\n",
       "      <td>Aluminum</td>\n",
       "      <td>0.0</td>\n",
       "      <td>0</td>\n",
       "    </tr>\n",
       "  </tbody>\n",
       "</table>\n",
       "</div>"
      ],
      "text/plain": [
       "    Region  Function  Origin Product                   Component  AMOUNT  \\\n",
       "0  ONTARIO  Domestic  CANADA  Yogurt                      Diquat     0.0   \n",
       "1  ONTARIO  Domestic  CANADA  Yogurt                    Paraquat     0.0   \n",
       "2  ONTARIO  Domestic  CANADA  Yogurt  AminomethylPhosphonic Acid     0.0   \n",
       "3  ONTARIO  Domestic  CANADA  Yogurt                  Glyphosate     0.0   \n",
       "4  ONTARIO  Domestic  CANADA  Yogurt                    Aluminum     0.0   \n",
       "\n",
       "   Has_chemicals  \n",
       "0              0  \n",
       "1              0  \n",
       "2              0  \n",
       "3              0  \n",
       "4              0  "
      ]
     },
     "execution_count": 7,
     "metadata": {},
     "output_type": "execute_result"
    }
   ],
   "source": [
    "# 1 if product has chemicals, 0 is none\n",
    "children_food['Has_chemicals'] = np.where(children_food.AMOUNT == 0, 0, 1)\n",
    "children_food.head()"
   ]
  },
  {
   "cell_type": "markdown",
   "id": "a5b3a61d",
   "metadata": {},
   "source": [
    "#### The model"
   ]
  },
  {
   "cell_type": "code",
   "execution_count": 14,
   "id": "215903bc",
   "metadata": {},
   "outputs": [],
   "source": [
    "from sklearn.model_selection import train_test_split\n",
    "from sklearn.tree import DecisionTreeRegressor\n",
    "from sklearn import preprocessing\n",
    "from sklearn.metrics import mean_absolute_error\n",
    "from sklearn.ensemble import RandomForestRegressor\n"
   ]
  },
  {
   "cell_type": "code",
   "execution_count": 10,
   "id": "27e93649",
   "metadata": {},
   "outputs": [],
   "source": [
    "# Let's select and split our data\n",
    "kids_food_X = children_food[['Origin', 'Product', 'Component', 'AMOUNT']]\n",
    "kids_food_y = children_food['Has_chemicals']\n",
    "\n",
    "X_train, X_val, y_train, y_val = train_test_split(\n",
    "    kids_food_X, kids_food_y, random_state = 0)\n",
    "#X_train.head()"
   ]
  },
  {
   "cell_type": "markdown",
   "id": "7ba44eb2",
   "metadata": {},
   "source": [
    "Given that we are dealing with categorical data, we have to encode the training and test data."
   ]
  },
  {
   "cell_type": "code",
   "execution_count": 11,
   "id": "d8a556f1",
   "metadata": {},
   "outputs": [
    {
     "data": {
      "text/html": [
       "<div>\n",
       "<style scoped>\n",
       "    .dataframe tbody tr th:only-of-type {\n",
       "        vertical-align: middle;\n",
       "    }\n",
       "\n",
       "    .dataframe tbody tr th {\n",
       "        vertical-align: top;\n",
       "    }\n",
       "\n",
       "    .dataframe thead th {\n",
       "        text-align: right;\n",
       "    }\n",
       "</style>\n",
       "<table border=\"1\" class=\"dataframe\">\n",
       "  <thead>\n",
       "    <tr style=\"text-align: right;\">\n",
       "      <th></th>\n",
       "      <th>Origin</th>\n",
       "      <th>Product</th>\n",
       "      <th>Component</th>\n",
       "      <th>AMOUNT</th>\n",
       "    </tr>\n",
       "  </thead>\n",
       "  <tbody>\n",
       "    <tr>\n",
       "      <th>112893</th>\n",
       "      <td>16</td>\n",
       "      <td>3</td>\n",
       "      <td>484</td>\n",
       "      <td>0</td>\n",
       "    </tr>\n",
       "    <tr>\n",
       "      <th>64395</th>\n",
       "      <td>1</td>\n",
       "      <td>2</td>\n",
       "      <td>212</td>\n",
       "      <td>0</td>\n",
       "    </tr>\n",
       "    <tr>\n",
       "      <th>103566</th>\n",
       "      <td>15</td>\n",
       "      <td>3</td>\n",
       "      <td>90</td>\n",
       "      <td>0</td>\n",
       "    </tr>\n",
       "    <tr>\n",
       "      <th>126923</th>\n",
       "      <td>15</td>\n",
       "      <td>4</td>\n",
       "      <td>217</td>\n",
       "      <td>0</td>\n",
       "    </tr>\n",
       "    <tr>\n",
       "      <th>63536</th>\n",
       "      <td>1</td>\n",
       "      <td>2</td>\n",
       "      <td>409</td>\n",
       "      <td>0</td>\n",
       "    </tr>\n",
       "  </tbody>\n",
       "</table>\n",
       "</div>"
      ],
      "text/plain": [
       "        Origin  Product  Component  AMOUNT\n",
       "112893      16        3        484       0\n",
       "64395        1        2        212       0\n",
       "103566      15        3         90       0\n",
       "126923      15        4        217       0\n",
       "63536        1        2        409       0"
      ]
     },
     "execution_count": 11,
     "metadata": {},
     "output_type": "execute_result"
    }
   ],
   "source": [
    "encoder = preprocessing.LabelEncoder()\n",
    "X_train_encoded = X_train.apply(encoder.fit_transform)\n",
    "X_val_encoded = X_val.apply(encoder.fit_transform)\n",
    "#X_train_encoded.head()\n",
    "X_val_encoded.head()"
   ]
  },
  {
   "cell_type": "markdown",
   "id": "5e3261c6",
   "metadata": {},
   "source": [
    "We can test and choose the best model"
   ]
  },
  {
   "cell_type": "code",
   "execution_count": 12,
   "id": "547816e9",
   "metadata": {},
   "outputs": [
    {
     "name": "stdout",
     "output_type": "stream",
     "text": [
      "0.0\n"
     ]
    }
   ],
   "source": [
    "model1 = DecisionTreeRegressor()\n",
    "model1.fit(X_train_encoded, y_train)\n",
    "prediction = model1.predict(X_val_encoded)\n",
    "\n",
    "print(mean_absolute_error(y_val, prediction))"
   ]
  },
  {
   "cell_type": "code",
   "execution_count": 15,
   "id": "c22a6c7b",
   "metadata": {},
   "outputs": [
    {
     "name": "stdout",
     "output_type": "stream",
     "text": [
      "3.0834853662923656e-06\n"
     ]
    }
   ],
   "source": [
    "\n",
    "model2 = RandomForestRegressor(random_state=1)\n",
    "model2.fit(X_train_encoded, y_train)\n",
    "prediction2 = model2.predict(X_val_encoded)\n",
    "\n",
    "print(mean_absolute_error(y_val, prediction2))"
   ]
  },
  {
   "cell_type": "code",
   "execution_count": 16,
   "id": "a1dbf796",
   "metadata": {},
   "outputs": [
    {
     "data": {
      "text/html": [
       "<div>\n",
       "<style scoped>\n",
       "    .dataframe tbody tr th:only-of-type {\n",
       "        vertical-align: middle;\n",
       "    }\n",
       "\n",
       "    .dataframe tbody tr th {\n",
       "        vertical-align: top;\n",
       "    }\n",
       "\n",
       "    .dataframe thead th {\n",
       "        text-align: right;\n",
       "    }\n",
       "</style>\n",
       "<table border=\"1\" class=\"dataframe\">\n",
       "  <thead>\n",
       "    <tr style=\"text-align: right;\">\n",
       "      <th></th>\n",
       "      <th>Origin</th>\n",
       "      <th>Has_chemicals</th>\n",
       "    </tr>\n",
       "  </thead>\n",
       "  <tbody>\n",
       "    <tr>\n",
       "      <th>0</th>\n",
       "      <td>UNKNOWN</td>\n",
       "      <td>0.0</td>\n",
       "    </tr>\n",
       "    <tr>\n",
       "      <th>1</th>\n",
       "      <td>CANADA</td>\n",
       "      <td>0.0</td>\n",
       "    </tr>\n",
       "    <tr>\n",
       "      <th>2</th>\n",
       "      <td>UNITED STATES</td>\n",
       "      <td>0.0</td>\n",
       "    </tr>\n",
       "    <tr>\n",
       "      <th>3</th>\n",
       "      <td>UNITED STATES</td>\n",
       "      <td>0.0</td>\n",
       "    </tr>\n",
       "    <tr>\n",
       "      <th>4</th>\n",
       "      <td>CANADA</td>\n",
       "      <td>0.0</td>\n",
       "    </tr>\n",
       "  </tbody>\n",
       "</table>\n",
       "</div>"
      ],
      "text/plain": [
       "          Origin  Has_chemicals\n",
       "0        UNKNOWN            0.0\n",
       "1         CANADA            0.0\n",
       "2  UNITED STATES            0.0\n",
       "3  UNITED STATES            0.0\n",
       "4         CANADA            0.0"
      ]
     },
     "execution_count": 16,
     "metadata": {},
     "output_type": "execute_result"
    }
   ],
   "source": [
    "output = pd.DataFrame({'Origin': X_val.Origin, \n",
    "                    'Has_chemicals': prediction2}).reset_index(drop=True)\n",
    "output.head()\n"
   ]
  },
  {
   "cell_type": "markdown",
   "id": "4770fbff",
   "metadata": {},
   "source": [
    "#### Origin of products with highers number of chemicals "
   ]
  },
  {
   "cell_type": "code",
   "execution_count": 21,
   "id": "ee9508bb",
   "metadata": {},
   "outputs": [
    {
     "data": {
      "text/plain": [
       "<AxesSubplot:>"
      ]
     },
     "execution_count": 21,
     "metadata": {},
     "output_type": "execute_result"
    },
    {
     "data": {
      "image/png": "[encoded data removed]",
      "text/plain": [
       "<Figure size 432x288 with 1 Axes>"
      ]
     },
     "metadata": {
      "needs_background": "light"
     },
     "output_type": "display_data"
    }
   ],
   "source": [
    "#output.groupby('Origin')['Has_chemicals'].sum().plot(kind='barh')\n",
    "\n",
    "# Country with the highest percentage of products with chemicals\n",
    "a = 100*output.groupby('Origin')['Has_chemicals'].sum()/(\n",
    "    output.Origin.value_counts())\n",
    "a.plot(kind='barh')"
   ]
  },
  {
   "cell_type": "code",
   "execution_count": 23,
   "id": "3f8a8413",
   "metadata": {},
   "outputs": [],
   "source": [
    "# The total percentage can also be measured ie for all measured products\n",
    "#output.groupby('Origin').agg({\"Has_chemicals\" : \"sum\"}\n",
    "                          #  ).apply(lambda x: 100*x/x.sum()\n",
    "                              #     ).plot(kind='barh')"
   ]
  },
  {
   "cell_type": "code",
   "execution_count": null,
   "id": "4b2aa292",
   "metadata": {},
   "outputs": [],
   "source": []
  }
 ],
 "metadata": {
  "kernelspec": {
   "display_name": "Python 3 (ipykernel)",
   "language": "python",
   "name": "python3"
  },
  "language_info": {
   "codemirror_mode": {
    "name": "ipython",
    "version": 3
   },
   "file_extension": ".py",
   "mimetype": "text/x-python",
   "name": "python",
   "nbconvert_exporter": "python",
   "pygments_lexer": "ipython3",
   "version": "3.9.7"
  }
 },
 "nbformat": 4,
 "nbformat_minor": 5
}
