{
 "cells": [
  {
   "cell_type": "code",
   "execution_count": 81,
   "id": "f7267474",
   "metadata": {},
   "outputs": [],
   "source": [
    "import numpy as np\n",
    "import pandas as pd\n",
    "import matplotlib.pyplot as plt\n",
    "from sklearn.model_selection import train_test_split\n",
    "from sklearn.tree import DecisionTreeRegressor\n",
    "from sklearn import preprocessing\n",
    "from sklearn.metrics import mean_absolute_error"
   ]
  },
  {
   "cell_type": "markdown",
   "id": "4145222b",
   "metadata": {},
   "source": [
    "### Our data\n",
    "<b>The data contains some Latin characters since columns are represented in both French and English. An encoding is needed in this case.</b>"
   ]
  },
  {
   "cell_type": "code",
   "execution_count": 97,
   "id": "b435554f",
   "metadata": {},
   "outputs": [
    {
     "data": {
      "text/html": [
       "<div>\n",
       "<style scoped>\n",
       "    .dataframe tbody tr th:only-of-type {\n",
       "        vertical-align: middle;\n",
       "    }\n",
       "\n",
       "    .dataframe tbody tr th {\n",
       "        vertical-align: top;\n",
       "    }\n",
       "\n",
       "    .dataframe thead th {\n",
       "        text-align: right;\n",
       "    }\n",
       "</style>\n",
       "<table border=\"1\" class=\"dataframe\">\n",
       "  <thead>\n",
       "    <tr style=\"text-align: right;\">\n",
       "      <th></th>\n",
       "      <th>Sample No.  No. déchantillon</th>\n",
       "      <th>Region - Région</th>\n",
       "      <th>Commodity</th>\n",
       "      <th>denrée</th>\n",
       "      <th>Function</th>\n",
       "      <th>Fonction</th>\n",
       "      <th>Origin</th>\n",
       "      <th>Origine</th>\n",
       "      <th>Product</th>\n",
       "      <th>Produit</th>\n",
       "      <th>Date Sampled  Date déchantillonage</th>\n",
       "      <th>Component</th>\n",
       "      <th>Composant</th>\n",
       "      <th>AMOUNT</th>\n",
       "      <th>Report Unit - Unité de rapport</th>\n",
       "    </tr>\n",
       "  </thead>\n",
       "  <tbody>\n",
       "    <tr>\n",
       "      <th>0</th>\n",
       "      <td>CFP2019-0001</td>\n",
       "      <td>ONTARIO</td>\n",
       "      <td>IMFD</td>\n",
       "      <td>DAIM</td>\n",
       "      <td>Domestic</td>\n",
       "      <td>domestique</td>\n",
       "      <td>CANADA</td>\n",
       "      <td>CANADA</td>\n",
       "      <td>Yogurt</td>\n",
       "      <td>Yogourt</td>\n",
       "      <td>15-Aug-19</td>\n",
       "      <td>Diquat</td>\n",
       "      <td>diquat</td>\n",
       "      <td>0.0</td>\n",
       "      <td>µg/g</td>\n",
       "    </tr>\n",
       "    <tr>\n",
       "      <th>1</th>\n",
       "      <td>CFP2019-0001</td>\n",
       "      <td>ONTARIO</td>\n",
       "      <td>IMFD</td>\n",
       "      <td>DAIM</td>\n",
       "      <td>Domestic</td>\n",
       "      <td>domestique</td>\n",
       "      <td>CANADA</td>\n",
       "      <td>CANADA</td>\n",
       "      <td>Yogurt</td>\n",
       "      <td>Yogourt</td>\n",
       "      <td>15-Aug-19</td>\n",
       "      <td>Paraquat</td>\n",
       "      <td>paraquat</td>\n",
       "      <td>0.0</td>\n",
       "      <td>µg/g</td>\n",
       "    </tr>\n",
       "    <tr>\n",
       "      <th>2</th>\n",
       "      <td>CFP2019-0001</td>\n",
       "      <td>ONTARIO</td>\n",
       "      <td>IMFD</td>\n",
       "      <td>DAIM</td>\n",
       "      <td>Domestic</td>\n",
       "      <td>domestique</td>\n",
       "      <td>CANADA</td>\n",
       "      <td>CANADA</td>\n",
       "      <td>Yogurt</td>\n",
       "      <td>Yogourt</td>\n",
       "      <td>15-Aug-19</td>\n",
       "      <td>AminomethylPhosphonic Acid</td>\n",
       "      <td>Acide (aminométhyl) phosphonique</td>\n",
       "      <td>0.0</td>\n",
       "      <td>µg/g</td>\n",
       "    </tr>\n",
       "    <tr>\n",
       "      <th>3</th>\n",
       "      <td>CFP2019-0001</td>\n",
       "      <td>ONTARIO</td>\n",
       "      <td>IMFD</td>\n",
       "      <td>DAIM</td>\n",
       "      <td>Domestic</td>\n",
       "      <td>domestique</td>\n",
       "      <td>CANADA</td>\n",
       "      <td>CANADA</td>\n",
       "      <td>Yogurt</td>\n",
       "      <td>Yogourt</td>\n",
       "      <td>15-Aug-19</td>\n",
       "      <td>Glyphosate</td>\n",
       "      <td>glyphosate</td>\n",
       "      <td>0.0</td>\n",
       "      <td>µg/g</td>\n",
       "    </tr>\n",
       "    <tr>\n",
       "      <th>4</th>\n",
       "      <td>CFP2019-0001</td>\n",
       "      <td>ONTARIO</td>\n",
       "      <td>IMFD</td>\n",
       "      <td>DAIM</td>\n",
       "      <td>Domestic</td>\n",
       "      <td>domestique</td>\n",
       "      <td>CANADA</td>\n",
       "      <td>CANADA</td>\n",
       "      <td>Yogurt</td>\n",
       "      <td>Yogourt</td>\n",
       "      <td>15-Aug-19</td>\n",
       "      <td>Aluminum</td>\n",
       "      <td>Aluminium</td>\n",
       "      <td>0.0</td>\n",
       "      <td>µg/g</td>\n",
       "    </tr>\n",
       "  </tbody>\n",
       "</table>\n",
       "</div>"
      ],
      "text/plain": [
       "  Sample No.  No. déchantillon Region - Région Commodity denrée  Function  \\\n",
       "0                   CFP2019-0001         ONTARIO      IMFD   DAIM  Domestic   \n",
       "1                   CFP2019-0001         ONTARIO      IMFD   DAIM  Domestic   \n",
       "2                   CFP2019-0001         ONTARIO      IMFD   DAIM  Domestic   \n",
       "3                   CFP2019-0001         ONTARIO      IMFD   DAIM  Domestic   \n",
       "4                   CFP2019-0001         ONTARIO      IMFD   DAIM  Domestic   \n",
       "\n",
       "     Fonction  Origin Origine Product  Produit  \\\n",
       "0  domestique  CANADA  CANADA  Yogurt  Yogourt   \n",
       "1  domestique  CANADA  CANADA  Yogurt  Yogourt   \n",
       "2  domestique  CANADA  CANADA  Yogurt  Yogourt   \n",
       "3  domestique  CANADA  CANADA  Yogurt  Yogourt   \n",
       "4  domestique  CANADA  CANADA  Yogurt  Yogourt   \n",
       "\n",
       "  Date Sampled  Date déchantillonage                   Component  \\\n",
       "0                            15-Aug-19                      Diquat   \n",
       "1                            15-Aug-19                    Paraquat   \n",
       "2                            15-Aug-19  AminomethylPhosphonic Acid   \n",
       "3                            15-Aug-19                  Glyphosate   \n",
       "4                            15-Aug-19                    Aluminum   \n",
       "\n",
       "                          Composant  AMOUNT Report Unit - Unité de rapport  \n",
       "0                            diquat     0.0                           µg/g  \n",
       "1                          paraquat     0.0                           µg/g  \n",
       "2  Acide (aminométhyl) phosphonique     0.0                           µg/g  \n",
       "3                        glyphosate     0.0                           µg/g  \n",
       "4                         Aluminium     0.0                           µg/g  "
      ]
     },
     "execution_count": 97,
     "metadata": {},
     "output_type": "execute_result"
    }
   ],
   "source": [
    "data = pd.read_csv(\n",
    "    'data/cfia-acia-1211-childrens-food-project.csv', encoding = \"ISO-8859-1\")\n",
    "data.head()\n"
   ]
  },
  {
   "cell_type": "markdown",
   "id": "b330a147",
   "metadata": {},
   "source": [
    "<b> Columns in French and unneeded columns can be dropped. Some renaming is also needed.</b>"
   ]
  },
  {
   "cell_type": "code",
   "execution_count": 65,
   "id": "1f46db7a",
   "metadata": {},
   "outputs": [
    {
     "data": {
      "text/html": [
       "<div>\n",
       "<style scoped>\n",
       "    .dataframe tbody tr th:only-of-type {\n",
       "        vertical-align: middle;\n",
       "    }\n",
       "\n",
       "    .dataframe tbody tr th {\n",
       "        vertical-align: top;\n",
       "    }\n",
       "\n",
       "    .dataframe thead th {\n",
       "        text-align: right;\n",
       "    }\n",
       "</style>\n",
       "<table border=\"1\" class=\"dataframe\">\n",
       "  <thead>\n",
       "    <tr style=\"text-align: right;\">\n",
       "      <th></th>\n",
       "      <th>Region</th>\n",
       "      <th>Function</th>\n",
       "      <th>Origin</th>\n",
       "      <th>Product</th>\n",
       "      <th>Component</th>\n",
       "      <th>AMOUNT</th>\n",
       "    </tr>\n",
       "  </thead>\n",
       "  <tbody>\n",
       "    <tr>\n",
       "      <th>0</th>\n",
       "      <td>ONTARIO</td>\n",
       "      <td>Domestic</td>\n",
       "      <td>CANADA</td>\n",
       "      <td>Yogurt</td>\n",
       "      <td>Diquat</td>\n",
       "      <td>0.0</td>\n",
       "    </tr>\n",
       "    <tr>\n",
       "      <th>1</th>\n",
       "      <td>ONTARIO</td>\n",
       "      <td>Domestic</td>\n",
       "      <td>CANADA</td>\n",
       "      <td>Yogurt</td>\n",
       "      <td>Paraquat</td>\n",
       "      <td>0.0</td>\n",
       "    </tr>\n",
       "    <tr>\n",
       "      <th>2</th>\n",
       "      <td>ONTARIO</td>\n",
       "      <td>Domestic</td>\n",
       "      <td>CANADA</td>\n",
       "      <td>Yogurt</td>\n",
       "      <td>AminomethylPhosphonic Acid</td>\n",
       "      <td>0.0</td>\n",
       "    </tr>\n",
       "    <tr>\n",
       "      <th>3</th>\n",
       "      <td>ONTARIO</td>\n",
       "      <td>Domestic</td>\n",
       "      <td>CANADA</td>\n",
       "      <td>Yogurt</td>\n",
       "      <td>Glyphosate</td>\n",
       "      <td>0.0</td>\n",
       "    </tr>\n",
       "    <tr>\n",
       "      <th>4</th>\n",
       "      <td>ONTARIO</td>\n",
       "      <td>Domestic</td>\n",
       "      <td>CANADA</td>\n",
       "      <td>Yogurt</td>\n",
       "      <td>Aluminum</td>\n",
       "      <td>0.0</td>\n",
       "    </tr>\n",
       "  </tbody>\n",
       "</table>\n",
       "</div>"
      ],
      "text/plain": [
       "    Region  Function  Origin Product                   Component  AMOUNT\n",
       "0  ONTARIO  Domestic  CANADA  Yogurt                      Diquat     0.0\n",
       "1  ONTARIO  Domestic  CANADA  Yogurt                    Paraquat     0.0\n",
       "2  ONTARIO  Domestic  CANADA  Yogurt  AminomethylPhosphonic Acid     0.0\n",
       "3  ONTARIO  Domestic  CANADA  Yogurt                  Glyphosate     0.0\n",
       "4  ONTARIO  Domestic  CANADA  Yogurt                    Aluminum     0.0"
      ]
     },
     "execution_count": 65,
     "metadata": {},
     "output_type": "execute_result"
    }
   ],
   "source": [
    "cols = ['Region - Région', 'Function', 'Origin', 'Product', 'Component', 'AMOUNT']\n",
    "children_food = data[cols].rename(columns={data.columns[1]: 'Region'})\n",
    "children_food.head()\n"
   ]
  },
  {
   "cell_type": "code",
   "execution_count": 66,
   "id": "ac35ef12",
   "metadata": {},
   "outputs": [
    {
     "data": {
      "text/plain": [
       "array(['Domestic', 'Unknown', 'Import'], dtype=object)"
      ]
     },
     "execution_count": 66,
     "metadata": {},
     "output_type": "execute_result"
    }
   ],
   "source": [
    "children_food.Function.unique()"
   ]
  },
  {
   "cell_type": "markdown",
   "id": "f2d77960",
   "metadata": {},
   "source": [
    "Region: where the product was both Ontario or Quebec\n",
    "Function: 'Domestic', 'Unknown', 'Import'\n",
    "Origin: country of origine of the product "
   ]
  },
  {
   "cell_type": "code",
   "execution_count": 67,
   "id": "645be98f",
   "metadata": {},
   "outputs": [],
   "source": [
    "#children_food.Origin.value_counts()"
   ]
  },
  {
   "cell_type": "code",
   "execution_count": 85,
   "id": "afb7f722",
   "metadata": {},
   "outputs": [
    {
     "data": {
      "text/html": [
       "<div>\n",
       "<style scoped>\n",
       "    .dataframe tbody tr th:only-of-type {\n",
       "        vertical-align: middle;\n",
       "    }\n",
       "\n",
       "    .dataframe tbody tr th {\n",
       "        vertical-align: top;\n",
       "    }\n",
       "\n",
       "    .dataframe thead th {\n",
       "        text-align: right;\n",
       "    }\n",
       "</style>\n",
       "<table border=\"1\" class=\"dataframe\">\n",
       "  <thead>\n",
       "    <tr style=\"text-align: right;\">\n",
       "      <th></th>\n",
       "      <th>Region</th>\n",
       "      <th>Function</th>\n",
       "      <th>Origin</th>\n",
       "      <th>Product</th>\n",
       "      <th>Component</th>\n",
       "      <th>AMOUNT</th>\n",
       "      <th>Has_chemicals</th>\n",
       "    </tr>\n",
       "  </thead>\n",
       "  <tbody>\n",
       "    <tr>\n",
       "      <th>0</th>\n",
       "      <td>ONTARIO</td>\n",
       "      <td>Domestic</td>\n",
       "      <td>CANADA</td>\n",
       "      <td>Yogurt</td>\n",
       "      <td>Diquat</td>\n",
       "      <td>0.0</td>\n",
       "      <td>0</td>\n",
       "    </tr>\n",
       "    <tr>\n",
       "      <th>1</th>\n",
       "      <td>ONTARIO</td>\n",
       "      <td>Domestic</td>\n",
       "      <td>CANADA</td>\n",
       "      <td>Yogurt</td>\n",
       "      <td>Paraquat</td>\n",
       "      <td>0.0</td>\n",
       "      <td>0</td>\n",
       "    </tr>\n",
       "    <tr>\n",
       "      <th>2</th>\n",
       "      <td>ONTARIO</td>\n",
       "      <td>Domestic</td>\n",
       "      <td>CANADA</td>\n",
       "      <td>Yogurt</td>\n",
       "      <td>AminomethylPhosphonic Acid</td>\n",
       "      <td>0.0</td>\n",
       "      <td>0</td>\n",
       "    </tr>\n",
       "    <tr>\n",
       "      <th>3</th>\n",
       "      <td>ONTARIO</td>\n",
       "      <td>Domestic</td>\n",
       "      <td>CANADA</td>\n",
       "      <td>Yogurt</td>\n",
       "      <td>Glyphosate</td>\n",
       "      <td>0.0</td>\n",
       "      <td>0</td>\n",
       "    </tr>\n",
       "    <tr>\n",
       "      <th>4</th>\n",
       "      <td>ONTARIO</td>\n",
       "      <td>Domestic</td>\n",
       "      <td>CANADA</td>\n",
       "      <td>Yogurt</td>\n",
       "      <td>Aluminum</td>\n",
       "      <td>0.0</td>\n",
       "      <td>0</td>\n",
       "    </tr>\n",
       "  </tbody>\n",
       "</table>\n",
       "</div>"
      ],
      "text/plain": [
       "    Region  Function  Origin Product                   Component  AMOUNT  \\\n",
       "0  ONTARIO  Domestic  CANADA  Yogurt                      Diquat     0.0   \n",
       "1  ONTARIO  Domestic  CANADA  Yogurt                    Paraquat     0.0   \n",
       "2  ONTARIO  Domestic  CANADA  Yogurt  AminomethylPhosphonic Acid     0.0   \n",
       "3  ONTARIO  Domestic  CANADA  Yogurt                  Glyphosate     0.0   \n",
       "4  ONTARIO  Domestic  CANADA  Yogurt                    Aluminum     0.0   \n",
       "\n",
       "   Has_chemicals  \n",
       "0              0  \n",
       "1              0  \n",
       "2              0  \n",
       "3              0  \n",
       "4              0  "
      ]
     },
     "execution_count": 85,
     "metadata": {},
     "output_type": "execute_result"
    }
   ],
   "source": [
    "children_food['Has_chemicals'] = np.where(children_food.AMOUNT == 0, 0, 1)\n",
    "children_food.head()"
   ]
  },
  {
   "cell_type": "code",
   "execution_count": 69,
   "id": "374d42cc",
   "metadata": {},
   "outputs": [],
   "source": [
    "#plt.hist(children_food.Has_chemicals)\n",
    "#plt.show()"
   ]
  },
  {
   "cell_type": "code",
   "execution_count": 70,
   "id": "686daf30",
   "metadata": {},
   "outputs": [],
   "source": [
    "#food_check = children_food[['Origin', 'Product', 'Component', 'AMOUNT']]\n",
    "#checker = children_food['Has_chemicals']"
   ]
  },
  {
   "cell_type": "markdown",
   "id": "1f97fa15",
   "metadata": {},
   "source": []
  },
  {
   "cell_type": "code",
   "execution_count": 86,
   "id": "27e93649",
   "metadata": {},
   "outputs": [],
   "source": [
    "kids_food_X = children_food[['Origin', 'Product', 'Component', 'AMOUNT']]\n",
    "kids_food_y = children_food['Has_chemicals']"
   ]
  },
  {
   "cell_type": "code",
   "execution_count": 87,
   "id": "97d3a6c0",
   "metadata": {},
   "outputs": [],
   "source": [
    "X_train, X_val, y_train, y_val = train_test_split(\n",
    "    kids_food_X, kids_food_y, random_state = 0)\n",
    "#X_train.head()"
   ]
  },
  {
   "cell_type": "markdown",
   "id": "7ba44eb2",
   "metadata": {},
   "source": [
    "Given that we are dealing with categorical data, we have to encode the training and test data."
   ]
  },
  {
   "cell_type": "code",
   "execution_count": 88,
   "id": "d8a556f1",
   "metadata": {},
   "outputs": [
    {
     "data": {
      "text/html": [
       "<div>\n",
       "<style scoped>\n",
       "    .dataframe tbody tr th:only-of-type {\n",
       "        vertical-align: middle;\n",
       "    }\n",
       "\n",
       "    .dataframe tbody tr th {\n",
       "        vertical-align: top;\n",
       "    }\n",
       "\n",
       "    .dataframe thead th {\n",
       "        text-align: right;\n",
       "    }\n",
       "</style>\n",
       "<table border=\"1\" class=\"dataframe\">\n",
       "  <thead>\n",
       "    <tr style=\"text-align: right;\">\n",
       "      <th></th>\n",
       "      <th>Origin</th>\n",
       "      <th>Product</th>\n",
       "      <th>Component</th>\n",
       "      <th>AMOUNT</th>\n",
       "    </tr>\n",
       "  </thead>\n",
       "  <tbody>\n",
       "    <tr>\n",
       "      <th>112893</th>\n",
       "      <td>16</td>\n",
       "      <td>3</td>\n",
       "      <td>484</td>\n",
       "      <td>0</td>\n",
       "    </tr>\n",
       "    <tr>\n",
       "      <th>64395</th>\n",
       "      <td>1</td>\n",
       "      <td>2</td>\n",
       "      <td>212</td>\n",
       "      <td>0</td>\n",
       "    </tr>\n",
       "    <tr>\n",
       "      <th>103566</th>\n",
       "      <td>15</td>\n",
       "      <td>3</td>\n",
       "      <td>90</td>\n",
       "      <td>0</td>\n",
       "    </tr>\n",
       "    <tr>\n",
       "      <th>126923</th>\n",
       "      <td>15</td>\n",
       "      <td>4</td>\n",
       "      <td>217</td>\n",
       "      <td>0</td>\n",
       "    </tr>\n",
       "    <tr>\n",
       "      <th>63536</th>\n",
       "      <td>1</td>\n",
       "      <td>2</td>\n",
       "      <td>409</td>\n",
       "      <td>0</td>\n",
       "    </tr>\n",
       "  </tbody>\n",
       "</table>\n",
       "</div>"
      ],
      "text/plain": [
       "        Origin  Product  Component  AMOUNT\n",
       "112893      16        3        484       0\n",
       "64395        1        2        212       0\n",
       "103566      15        3         90       0\n",
       "126923      15        4        217       0\n",
       "63536        1        2        409       0"
      ]
     },
     "execution_count": 88,
     "metadata": {},
     "output_type": "execute_result"
    }
   ],
   "source": [
    "encoder = preprocessing.LabelEncoder()\n",
    "X_train_encoded = X_train.apply(encoder.fit_transform)\n",
    "X_val_encoded = X_val.apply(encoder.fit_transform)\n",
    "#X_train_encoded.head()\n",
    "X_val_encoded.head()"
   ]
  },
  {
   "cell_type": "code",
   "execution_count": 91,
   "id": "547816e9",
   "metadata": {},
   "outputs": [
    {
     "name": "stdout",
     "output_type": "stream",
     "text": [
      "0.0\n"
     ]
    }
   ],
   "source": [
    "model1 = DecisionTreeRegressor()\n",
    "model1.fit(X_train_encoded, y_train)\n",
    "prediction = model1.predict(X_val_encoded)\n",
    "\n",
    "print(mean_absolute_error(y_val, prediction))"
   ]
  },
  {
   "cell_type": "code",
   "execution_count": 94,
   "id": "c22a6c7b",
   "metadata": {},
   "outputs": [
    {
     "name": "stdout",
     "output_type": "stream",
     "text": [
      "3.0834853662923656e-06\n"
     ]
    }
   ],
   "source": [
    "from sklearn.ensemble import RandomForestRegressor\n",
    "\n",
    "model2 = RandomForestRegressor(random_state=1)\n",
    "model2.fit(X_train_encoded, y_train)\n",
    "prediction2 = model2.predict(X_val_encoded)\n",
    "\n",
    "print(mean_absolute_error(y_val, prediction2))"
   ]
  },
  {
   "cell_type": "code",
   "execution_count": 104,
   "id": "a1dbf796",
   "metadata": {},
   "outputs": [
    {
     "data": {
      "text/html": [
       "<div>\n",
       "<style scoped>\n",
       "    .dataframe tbody tr th:only-of-type {\n",
       "        vertical-align: middle;\n",
       "    }\n",
       "\n",
       "    .dataframe tbody tr th {\n",
       "        vertical-align: top;\n",
       "    }\n",
       "\n",
       "    .dataframe thead th {\n",
       "        text-align: right;\n",
       "    }\n",
       "</style>\n",
       "<table border=\"1\" class=\"dataframe\">\n",
       "  <thead>\n",
       "    <tr style=\"text-align: right;\">\n",
       "      <th></th>\n",
       "      <th>Origin</th>\n",
       "      <th>Has_chemicals</th>\n",
       "    </tr>\n",
       "  </thead>\n",
       "  <tbody>\n",
       "    <tr>\n",
       "      <th>0</th>\n",
       "      <td>UNKNOWN</td>\n",
       "      <td>0.0</td>\n",
       "    </tr>\n",
       "    <tr>\n",
       "      <th>1</th>\n",
       "      <td>CANADA</td>\n",
       "      <td>0.0</td>\n",
       "    </tr>\n",
       "    <tr>\n",
       "      <th>2</th>\n",
       "      <td>UNITED STATES</td>\n",
       "      <td>0.0</td>\n",
       "    </tr>\n",
       "    <tr>\n",
       "      <th>3</th>\n",
       "      <td>UNITED STATES</td>\n",
       "      <td>0.0</td>\n",
       "    </tr>\n",
       "    <tr>\n",
       "      <th>4</th>\n",
       "      <td>CANADA</td>\n",
       "      <td>0.0</td>\n",
       "    </tr>\n",
       "  </tbody>\n",
       "</table>\n",
       "</div>"
      ],
      "text/plain": [
       "          Origin  Has_chemicals\n",
       "0        UNKNOWN            0.0\n",
       "1         CANADA            0.0\n",
       "2  UNITED STATES            0.0\n",
       "3  UNITED STATES            0.0\n",
       "4         CANADA            0.0"
      ]
     },
     "execution_count": 104,
     "metadata": {},
     "output_type": "execute_result"
    }
   ],
   "source": [
    "output = pd.DataFrame({'Origin': X_val.Origin, \n",
    "                       'Has_chemicals': prediction2}).reset_index(drop=True)\n",
    "output.head()\n"
   ]
  },
  {
   "cell_type": "markdown",
   "id": "4770fbff",
   "metadata": {},
   "source": [
    "#### Origin of products with highers number of chemicals "
   ]
  },
  {
   "cell_type": "code",
   "execution_count": 122,
   "id": "19ff34de",
   "metadata": {},
   "outputs": [
    {
     "data": {
      "text/plain": [
       "<AxesSubplot:ylabel='Origin'>"
      ]
     },
     "execution_count": 122,
     "metadata": {},
     "output_type": "execute_result"
    },
    {
     "data": {
      "image/png": "[encoded data removed]",
      "text/plain": [
       "<Figure size 432x288 with 1 Axes>"
      ]
     },
     "metadata": {
      "needs_background": "light"
     },
     "output_type": "display_data"
    }
   ],
   "source": [
    "# Country with the highest number of products with chemicals\n",
    "output.groupby('Origin')['Has_chemicals'].sum().plot(kind='barh')\n"
   ]
  },
  {
   "cell_type": "markdown",
   "id": "29531e1a",
   "metadata": {},
   "source": [
    "This needs to be compare to the amount\n",
    "of product tested originating from that country"
   ]
  },
  {
   "cell_type": "code",
   "execution_count": 123,
   "id": "ee9508bb",
   "metadata": {},
   "outputs": [
    {
     "data": {
      "text/plain": [
       "<AxesSubplot:>"
      ]
     },
     "execution_count": 123,
     "metadata": {},
     "output_type": "execute_result"
    },
    {
     "data": {
      "image/png": "[encoded data removed]",
      "text/plain": [
       "<Figure size 432x288 with 1 Axes>"
      ]
     },
     "metadata": {
      "needs_background": "light"
     },
     "output_type": "display_data"
    }
   ],
   "source": [
    "a = 100*output.groupby('Origin')['Has_chemicals'].sum()/(\n",
    "    output.Origin.value_counts())\n",
    "a.plot(kind='barh')"
   ]
  },
  {
   "cell_type": "code",
   "execution_count": 125,
   "id": "3f8a8413",
   "metadata": {},
   "outputs": [
    {
     "data": {
      "text/html": [
       "<div>\n",
       "<style scoped>\n",
       "    .dataframe tbody tr th:only-of-type {\n",
       "        vertical-align: middle;\n",
       "    }\n",
       "\n",
       "    .dataframe tbody tr th {\n",
       "        vertical-align: top;\n",
       "    }\n",
       "\n",
       "    .dataframe thead th {\n",
       "        text-align: right;\n",
       "    }\n",
       "</style>\n",
       "<table border=\"1\" class=\"dataframe\">\n",
       "  <thead>\n",
       "    <tr style=\"text-align: right;\">\n",
       "      <th></th>\n",
       "      <th>Has_chemicals</th>\n",
       "    </tr>\n",
       "    <tr>\n",
       "      <th>Origin</th>\n",
       "      <th></th>\n",
       "    </tr>\n",
       "  </thead>\n",
       "  <tbody>\n",
       "    <tr>\n",
       "      <th>AUSTRIA</th>\n",
       "      <td>1.230488</td>\n",
       "    </tr>\n",
       "    <tr>\n",
       "      <th>CANADA</th>\n",
       "      <td>27.070735</td>\n",
       "    </tr>\n",
       "    <tr>\n",
       "      <th>CHILE</th>\n",
       "      <td>3.691464</td>\n",
       "    </tr>\n",
       "    <tr>\n",
       "      <th>CHINA</th>\n",
       "      <td>0.878920</td>\n",
       "    </tr>\n",
       "    <tr>\n",
       "      <th>FRANCE</th>\n",
       "      <td>1.054704</td>\n",
       "    </tr>\n",
       "    <tr>\n",
       "      <th>INDIA</th>\n",
       "      <td>0.351568</td>\n",
       "    </tr>\n",
       "    <tr>\n",
       "      <th>IRELAND</th>\n",
       "      <td>0.000000</td>\n",
       "    </tr>\n",
       "    <tr>\n",
       "      <th>ITALY</th>\n",
       "      <td>6.504008</td>\n",
       "    </tr>\n",
       "    <tr>\n",
       "      <th>MEXICO</th>\n",
       "      <td>2.812544</td>\n",
       "    </tr>\n",
       "    <tr>\n",
       "      <th>NETHERLANDS</th>\n",
       "      <td>0.703136</td>\n",
       "    </tr>\n",
       "    <tr>\n",
       "      <th>SLOVAKIA</th>\n",
       "      <td>0.175784</td>\n",
       "    </tr>\n",
       "    <tr>\n",
       "      <th>SPAIN</th>\n",
       "      <td>1.406272</td>\n",
       "    </tr>\n",
       "    <tr>\n",
       "      <th>SWITZERLAND</th>\n",
       "      <td>2.285192</td>\n",
       "    </tr>\n",
       "    <tr>\n",
       "      <th>THAILAND</th>\n",
       "      <td>1.933624</td>\n",
       "    </tr>\n",
       "    <tr>\n",
       "      <th>UNITED KINGDOM</th>\n",
       "      <td>0.527352</td>\n",
       "    </tr>\n",
       "    <tr>\n",
       "      <th>UNITED STATES</th>\n",
       "      <td>14.590072</td>\n",
       "    </tr>\n",
       "    <tr>\n",
       "      <th>UNKNOWN</th>\n",
       "      <td>34.784137</td>\n",
       "    </tr>\n",
       "  </tbody>\n",
       "</table>\n",
       "</div>"
      ],
      "text/plain": [
       "                Has_chemicals\n",
       "Origin                       \n",
       "AUSTRIA              1.230488\n",
       "CANADA              27.070735\n",
       "CHILE                3.691464\n",
       "CHINA                0.878920\n",
       "FRANCE               1.054704\n",
       "INDIA                0.351568\n",
       "IRELAND              0.000000\n",
       "ITALY                6.504008\n",
       "MEXICO               2.812544\n",
       "NETHERLANDS          0.703136\n",
       "SLOVAKIA             0.175784\n",
       "SPAIN                1.406272\n",
       "SWITZERLAND          2.285192\n",
       "THAILAND             1.933624\n",
       "UNITED KINGDOM       0.527352\n",
       "UNITED STATES       14.590072\n",
       "UNKNOWN             34.784137"
      ]
     },
     "execution_count": 125,
     "metadata": {},
     "output_type": "execute_result"
    }
   ],
   "source": [
    "# The total percentage can also be measured\n",
    "output.groupby('Origin').agg({\"Has_chemicals\" : \"sum\"}\n",
    "                            ).apply(lambda x: 100*x/x.sum())"
   ]
  },
  {
   "cell_type": "code",
   "execution_count": null,
   "id": "1950944c",
   "metadata": {},
   "outputs": [],
   "source": []
  }
 ],
 "metadata": {
  "kernelspec": {
   "display_name": "Python 3 (ipykernel)",
   "language": "python",
   "name": "python3"
  },
  "language_info": {
   "codemirror_mode": {
    "name": "ipython",
    "version": 3
   },
   "file_extension": ".py",
   "mimetype": "text/x-python",
   "name": "python",
   "nbconvert_exporter": "python",
   "pygments_lexer": "ipython3",
   "version": "3.9.7"
  }
 },
 "nbformat": 4,
 "nbformat_minor": 5
}
